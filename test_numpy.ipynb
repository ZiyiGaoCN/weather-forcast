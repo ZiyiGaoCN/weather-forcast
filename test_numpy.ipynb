{
 "cells": [
  {
   "cell_type": "code",
   "execution_count": 1,
   "metadata": {},
   "outputs": [],
   "source": [
    "import numpy as np\n",
    "\n",
    "name = '/home/gaoziyi/weather/weather_bench/dataset.npy'\n",
    "# name = '/dev/shm/store/original_dataset/dataset.npy'\n",
    "\n",
    "name2 = '/home/gaoziyi/weather/weather_bench/npydata/10m_v_component_of_wind.npy'\n",
    "\n",
    "data =np.memmap(name, dtype=np.float32, mode='r', shape = tuple([58436, 112, 32, 64]))\n",
    "    "
   ]
  },
  {
   "cell_type": "code",
   "execution_count": 11,
   "metadata": {},
   "outputs": [],
   "source": [
    "data2 = np.memmap(name2, dtype=np.float32, mode='r', shape = tuple([58436,1, 32, 64]))"
   ]
  },
  {
   "cell_type": "code",
   "execution_count": 12,
   "metadata": {},
   "outputs": [
    {
     "data": {
      "text/plain": [
       "memmap([[[ 2.2366853e+08,  1.2387478e-40,  3.4833497e-15, ...,\n",
       "           1.0161744e+00,  1.0144590e+00,  1.0367502e+00],\n",
       "         [ 1.0086292e+00,  1.1512909e+00,  1.3519130e+00, ...,\n",
       "           4.5372972e-01,  1.1578113e+00,  5.4360712e-01],\n",
       "         [-1.9372010e-01, -4.5779395e-01, -3.6142811e-01, ...,\n",
       "          -1.0591902e-01, -8.2988209e-01, -8.7378246e-01],\n",
       "         ...,\n",
       "         [ 8.3364777e-02,  8.2103658e-01,  1.1561479e-01, ...,\n",
       "           8.4710658e-01,  3.8962308e-01,  4.4620115e-01],\n",
       "         [ 3.7281349e-01,  6.2179238e-01,  6.6156894e-01, ...,\n",
       "           2.4990561e+00,  2.3495364e+00,  2.1129081e+00],\n",
       "         [ 1.7675638e+00,  1.6657079e+00,  1.7469816e+00, ...,\n",
       "           1.5844268e+00,  1.8635823e+00,  2.1211324e+00]]], dtype=float32)"
      ]
     },
     "execution_count": 12,
     "metadata": {},
     "output_type": "execute_result"
    }
   ],
   "source": [
    "data2[0]"
   ]
  }
 ],
 "metadata": {
  "kernelspec": {
   "display_name": "train-weather",
   "language": "python",
   "name": "python3"
  },
  "language_info": {
   "codemirror_mode": {
    "name": "ipython",
    "version": 3
   },
   "file_extension": ".py",
   "mimetype": "text/x-python",
   "name": "python",
   "nbconvert_exporter": "python",
   "pygments_lexer": "ipython3",
   "version": "3.9.18"
  }
 },
 "nbformat": 4,
 "nbformat_minor": 2
}
