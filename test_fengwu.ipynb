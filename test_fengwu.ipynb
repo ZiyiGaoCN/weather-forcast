{
 "cells": [
  {
   "cell_type": "code",
   "execution_count": 1,
   "metadata": {},
   "outputs": [],
   "source": [
    "from omegaconf import OmegaConf\n",
    "import argparse\n",
    "import yaml\n",
    "\n",
    "parser = argparse.ArgumentParser(description=\"hello\")\n",
    "parser.add_argument('--local_rank', default=-1, type=int, help='node rank for distributed training')\n",
    "parser.add_argument('--cfg_path', default=None, type=str, help='node rank for distributed training')\n",
    "#args = parser.parse_args()\n",
    "\n",
    "args = parser.parse_args(['--local_rank', '0', '--cfg_path', 'cfgs/finetune/finetune_fengwu.yaml'])\n",
    "\n",
    "with open(args.cfg_path, 'r') as file:\n",
    "    yaml_data = yaml.safe_load(file)\n",
    "\n",
    "# Convert to omegaconf.DictConfig\n",
    "config = OmegaConf.create(yaml_data)\n",
    "config_deepspeed = OmegaConf.create({\"deepspeed\":vars(args)})\n",
    "config = OmegaConf.merge(config, config_deepspeed)\n",
    "cfg = config\n"
   ]
  },
  {
   "cell_type": "code",
   "execution_count": 2,
   "metadata": {},
   "outputs": [
    {
     "name": "stdout",
     "output_type": "stream",
     "text": [
      "/dev/shm/store/original_dataset/dataset.npy\n",
      "[58436, 68, 32, 64]\n",
      "/dev/shm/store/buffer/swin-multi-finetune.npy\n",
      "[0, 56000]\n",
      "20000 20000\n"
     ]
    }
   ],
   "source": [
    "import numpy as np\n",
    "from dataset.dataset_fengwu import Replay_buffer_fengwu\n",
    "import os\n",
    "\n",
    "base_path = cfg.data.npy_name\n",
    "print(base_path)\n",
    "print(cfg.data.shape)\n",
    "data_ori = np.memmap(base_path, dtype = 'float32',mode = 'c', shape = tuple(cfg.data.shape) , order = 'C')\n",
    "\n",
    "\n",
    "\n",
    "buffer_file = os.path.join(cfg.data.buffer_folder,cfg.logger.name+'.npy')\n",
    "print(buffer_file)\n",
    "print(cfg.data.train_range)\n",
    "\n",
    "Replay_Buffer = Replay_buffer_fengwu(\n",
    "        data=data_ori, train_range=cfg.data.train_range, buffer_file= buffer_file,\n",
    "        buffer_size=cfg.data.buffer_size, shape = cfg.data.shape,\n",
    "    )\n",
    "dataset = Replay_Buffer.build_dataset(size=6400)\n",
    "\n"
   ]
  },
  {
   "cell_type": "code",
   "execution_count": 3,
   "metadata": {},
   "outputs": [],
   "source": [
    "from torch.utils.data import DataLoader\n",
    "dataloader = DataLoader(dataset, batch_size=32, shuffle=True, num_workers=4)"
   ]
  },
  {
   "cell_type": "code",
   "execution_count": 4,
   "metadata": {},
   "outputs": [],
   "source": [
    "s = next(iter(dataloader))"
   ]
  },
  {
   "cell_type": "code",
   "execution_count": 5,
   "metadata": {},
   "outputs": [
    {
     "data": {
      "text/plain": [
       "torch.Size([20, 1, 68, 32, 64])"
      ]
     },
     "execution_count": 5,
     "metadata": {},
     "output_type": "execute_result"
    }
   ],
   "source": [
    "s[1].shape"
   ]
  },
  {
   "cell_type": "code",
   "execution_count": 6,
   "metadata": {},
   "outputs": [
    {
     "name": "stderr",
     "output_type": "stream",
     "text": [
      "/home/gaoziyi/miniconda3/envs/train-weather/lib/python3.9/site-packages/torch/functional.py:504: UserWarning: torch.meshgrid: in an upcoming release, it will be required to pass the indexing argument. (Triggered internally at /opt/conda/conda-bld/pytorch_1695392022560/work/aten/src/ATen/native/TensorShape.cpp:3526.)\n",
      "  return _VF.meshgrid(tensors, **kwargs)  # type: ignore[attr-defined]\n"
     ]
    }
   ],
   "source": [
    "import importlib\n",
    "model_path = cfg.model.model_path\n",
    "model_type = cfg.model.model_type\n",
    "model_module = importlib.import_module(model_path)\n",
    "model_class = getattr(model_module, model_type)\n",
    "model = model_class(**cfg.model.param)"
   ]
  }
 ],
 "metadata": {
  "kernelspec": {
   "display_name": "train-weather",
   "language": "python",
   "name": "python3"
  },
  "language_info": {
   "codemirror_mode": {
    "name": "ipython",
    "version": 3
   },
   "file_extension": ".py",
   "mimetype": "text/x-python",
   "name": "python",
   "nbconvert_exporter": "python",
   "pygments_lexer": "ipython3",
   "version": "3.9.18"
  }
 },
 "nbformat": 4,
 "nbformat_minor": 2
}
