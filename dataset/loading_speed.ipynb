{
 "cells": [
  {
   "cell_type": "code",
   "execution_count": 1,
   "metadata": {},
   "outputs": [],
   "source": [
    "from torch.utils.data import DataLoader\n",
    "from dataset_torch import WeatherDataet_torch\n",
    "import torch\n",
    "\n",
    "shape = (14612,70,161,161)\n",
    "\n",
    "size = shape[0]*shape[1]*shape[2]*shape[3]\n",
    "\n",
    "data = torch.from_file('/dev/shm/store/original_dataset/dataset.bin', dtype=torch.bfloat16, size=size, shared=False)\n",
    "\n",
    "data = data.view(shape)\n",
    "\n",
    "dataset = WeatherDataet_torch(data, range=(0, 14612),autoregressive=True)"
   ]
  },
  {
   "cell_type": "code",
   "execution_count": 8,
   "metadata": {},
   "outputs": [
    {
     "name": "stderr",
     "output_type": "stream",
     "text": [
      "0it [00:01, ?it/s]"
     ]
    },
    {
     "name": "stdout",
     "output_type": "stream",
     "text": [
      "tensor(1.4375, dtype=torch.bfloat16)\n"
     ]
    },
    {
     "name": "stderr",
     "output_type": "stream",
     "text": [
      "\n"
     ]
    }
   ],
   "source": [
    "import tqdm\n",
    "dataloader = DataLoader(dataset, batch_size=64, shuffle=False, num_workers=16)\n",
    "for i, batch in tqdm.tqdm(enumerate(dataloader)):\n",
    "    input = batch[0]\n",
    "    target = batch[1]\n",
    "    a,b = torch.split(input, (1,1), dim=1)\n",
    "    output = a + b\n",
    "    loss = torch.mean(torch.abs(output - target))\n",
    "    print(loss)\n",
    "    break"
   ]
  }
 ],
 "metadata": {
  "kernelspec": {
   "display_name": "train-weather",
   "language": "python",
   "name": "python3"
  },
  "language_info": {
   "codemirror_mode": {
    "name": "ipython",
    "version": 3
   },
   "file_extension": ".py",
   "mimetype": "text/x-python",
   "name": "python",
   "nbconvert_exporter": "python",
   "pygments_lexer": "ipython3",
   "version": "3.9.18"
  }
 },
 "nbformat": 4,
 "nbformat_minor": 2
}
