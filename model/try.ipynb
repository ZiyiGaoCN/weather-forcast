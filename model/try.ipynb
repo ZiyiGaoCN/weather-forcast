{
 "cells": [
  {
   "cell_type": "code",
   "execution_count": null,
   "metadata": {},
   "outputs": [],
   "source": [
    "import torch\n",
    "import torch.nn as nn\n",
    "\n",
    "# Assume input is a 4D tensor with shape (batch_size, channels, height, width)\n",
    "input_tensor = torch.rand((1, 1, 7, 7))\n",
    "\n",
    "# Create a max pooling layer with kernel size 2 and stride 2\n",
    "# This will downsample the input's height and width by a factor of 2\n",
    "pooling_layer = nn.Conv2d(in_channels=1, out_channels=1, kernel_size=4, stride=2,padding=1)\n",
    "\n",
    "# Apply the pooling layer to the input tensor\n",
    "output_tensor = pooling_layer(input_tensor)\n",
    "\n",
    "layer=nn.ConvTranspose2d(in_channels=1, out_channels=1, kernel_size=3, stride=2)\n",
    "print(output_tensor.shape)  # Output: torch.Size([1, 1, 2, 2])\n",
    "output_tensor = layer(output_tensor)\n",
    "# The output tensor will have half the height and width of the input tensor\n",
    "# In this case, it will be a 7x7 square, since the input was a 14x14 square\n",
    "print(output_tensor.shape)  # Output: torch.Size([1, 1, 7, 7])"
   ]
  }
 ],
 "metadata": {
  "language_info": {
   "name": "python"
  },
  "orig_nbformat": 4
 },
 "nbformat": 4,
 "nbformat_minor": 2
}
