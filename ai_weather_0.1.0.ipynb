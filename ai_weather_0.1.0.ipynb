{
 "cells": [
  {
   "cell_type": "code",
   "execution_count": 1,
   "metadata": {},
   "outputs": [
    {
     "name": "stdout",
     "output_type": "stream",
     "text": [
      "/share/gaoziyi/dataset/weather_round_train_2007, 2007-01-01T00:00:00.000000000 ~ 2007-12-31T18:00:00.000000000\n",
      "\n",
      " shape: (1460, 70, 161, 161)\n",
      "\n",
      " times: 2007-01-01T00:00:00.000000000 ~ 2007-12-31T18:00:00.000000000\n",
      "\n",
      " init_times: 2007-01-01T06:00:00.000000000 ~ 2007-12-26T18:00:00.000000000\n",
      "\n",
      " names: ['z50', 'z100', 'z150', 'z200', 'z250', 'z300', 'z400', 'z500', 'z600', 'z700', 'z850', 'z925', 'z1000', 't50', 't100', 't150', 't200', 't250', 't300', 't400', 't500', 't600', 't700', 't850', 't925', 't1000', 'u50', 'u100', 'u150', 'u200', 'u250', 'u300', 'u400', 'u500', 'u600', 'u700', 'u850', 'u925', 'u1000', 'v50', 'v100', 'v150', 'v200', 'v250', 'v300', 'v400', 'v500', 'v600', 'v700', 'v850', 'v925', 'v1000', 'r50', 'r100', 'r150', 'r200', 'r250', 'r300', 'r400', 'r500', 'r600', 'r700', 'r850', 'r925', 'r1000', 't2m', 'u10', 'v10', 'msl', 'tp']\n",
      "\n",
      " test_names: ['t2m', 'u10', 'v10', 'msl', 'tp']\n",
      "\n"
     ]
    }
   ],
   "source": [
    "import os\n",
    "import numpy as np\n",
    "import pandas as pd\n",
    "import xarray as xr\n",
    "\n",
    "import torch\n",
    "torch.random.seed()\n",
    "np.random.seed(0)\n",
    "\n",
    "\n",
    "data_dir = '/share/gaoziyi/dataset' # change to you dataset dir\n",
    "\n",
    "def chunk_time(ds):\n",
    "    dims = {k:v for k, v in ds.dims.items()}\n",
    "    dims['time'] = 1\n",
    "    ds = ds.chunk(dims)\n",
    "    return ds\n",
    "\n",
    "\n",
    "def load_dataset():\n",
    "    ds = []\n",
    "    for y in range(2007, 2008):\n",
    "        data_name = os.path.join(data_dir, f'weather_round_train_{y}')\n",
    "        x = xr.open_zarr(data_name, consolidated=True)\n",
    "        print(f'{data_name}, {x.time.values[0]} ~ {x.time.values[-1]}')\n",
    "        ds.append(x)\n",
    "    ds = xr.concat(ds, 'time')\n",
    "    ds = chunk_time(ds)\n",
    "    return ds\n",
    "\n",
    "ds = load_dataset().x\n",
    "\n",
    "num_step = 20 # for 5-days\n",
    "shape = ds.shape # batch x channel x lat x lon \n",
    "times = ds.time.values\n",
    "init_times = times[slice(1, -num_step)] \n",
    "num_data = len(init_times)\n",
    "names = list(ds.channel.values)\n",
    "test_names = names[-5:]\n",
    "\n",
    "print(f'\\n shape: {shape}')\n",
    "print('\\n times: {} ~ {}'.format(times[0], times[-1]))\n",
    "print('\\n init_times: {} ~ {}'.format(init_times[0], init_times[-1]))\n",
    "print(f'\\n names: {names}')\n",
    "print(f'\\n test_names: {test_names}\\n')    "
   ]
  }
 ],
 "metadata": {
  "kernelspec": {
   "display_name": "train_weather",
   "language": "python",
   "name": "python3"
  },
  "language_info": {
   "codemirror_mode": {
    "name": "ipython",
    "version": 3
   },
   "file_extension": ".py",
   "mimetype": "text/x-python",
   "name": "python",
   "nbconvert_exporter": "python",
   "pygments_lexer": "ipython3",
   "version": "3.9.17"
  }
 },
 "nbformat": 4,
 "nbformat_minor": 2
}
