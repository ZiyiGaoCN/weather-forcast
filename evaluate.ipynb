{
 "cells": [
  {
   "cell_type": "code",
   "execution_count": 1,
   "metadata": {},
   "outputs": [],
   "source": [
    "from evaluate import evaluate\n",
    "import torch \n",
    "from forecastNet import forecastNet\n",
    "from dataset.dataset import test_dataset"
   ]
  },
  {
   "cell_type": "code",
   "execution_count": 2,
   "metadata": {},
   "outputs": [],
   "source": [
    "# Model parameters\n",
    "model_type = 'UNet' #'dense' or 'conv', 'dense2' or 'conv2'\n",
    "in_seq_length = 1\n",
    "out_seq_length = 20\n",
    "hidden_dim = 24\n",
    "input_dim = 70\n",
    "output_dim = 5\n",
    "learning_rate = 0.0001\n",
    "n_epochs= 100\n",
    "batch_size = 16\n",
    "fcstnet = forecastNet(in_seq_length=in_seq_length, out_seq_length=out_seq_length, input_dim=input_dim,\n",
    "                        hidden_dim=hidden_dim, output_dim=output_dim, model_type = model_type, batch_size = batch_size,\n",
    "                        n_epochs = n_epochs, learning_rate = learning_rate, save_file = './forecastnet.pt')\n"
   ]
  },
  {
   "cell_type": "code",
   "execution_count": 3,
   "metadata": {},
   "outputs": [],
   "source": [
    "checkpoint = torch.load('./forecastnet.pt')\n",
    "fcstnet.model.load_state_dict(checkpoint['model_state_dict'])\n",
    "fcstnet.model.to(\"cuda:1\")\n",
    "fcstnet.device = \"cuda:1\""
   ]
  },
  {
   "cell_type": "code",
   "execution_count": 4,
   "metadata": {},
   "outputs": [
    {
     "name": "stdout",
     "output_type": "stream",
     "text": [
      "torch.Size([300, 2, 70, 161, 161])\n"
     ]
    }
   ],
   "source": [
    "from torch.utils.data import TensorDataset, DataLoader\n",
    "test_data=test_dataset(data_dir='../dataset')\n",
    "# print(test_data)\n",
    "dataset = TensorDataset(test_data)\n",
    "test_dataloader = DataLoader(dataset, batch_size=64, shuffle=False)\n",
    "y_pred = evaluate(fcstnet,test_dataloader)"
   ]
  },
  {
   "cell_type": "code",
   "execution_count": 5,
   "metadata": {},
   "outputs": [
    {
     "name": "stdout",
     "output_type": "stream",
     "text": [
      "torch.Size([64, 2, 70, 161, 161])\n",
      "torch.Size([64, 2, 70, 161, 161])\n",
      "torch.Size([64, 2, 70, 161, 161])\n",
      "torch.Size([64, 2, 70, 161, 161])\n",
      "torch.Size([44, 2, 70, 161, 161])\n"
     ]
    }
   ],
   "source": [
    "for idx, input in enumerate(test_dataloader):\n",
    "    print(input[0].shape)"
   ]
  },
  {
   "cell_type": "code",
   "execution_count": 10,
   "metadata": {},
   "outputs": [
    {
     "name": "stdout",
     "output_type": "stream",
     "text": [
      "(300, 20, 5, 161, 161)\n"
     ]
    }
   ],
   "source": [
    "print(y_pred.shape)\n",
    "for i in range(y_pred.shape[0]):\n",
    "    num_i =str(i)\n",
    "    while len(num_i)<3:\n",
    "        num_i = '0'+num_i\n",
    "    load = torch.tensor(y_pred[i], dtype=torch.float16)\n",
    "    torch.save(load, './test_output/'+num_i+'.pt')\n",
    "    "
   ]
  }
 ],
 "metadata": {
  "kernelspec": {
   "display_name": "train_weather",
   "language": "python",
   "name": "python3"
  },
  "language_info": {
   "codemirror_mode": {
    "name": "ipython",
    "version": 3
   },
   "file_extension": ".py",
   "mimetype": "text/x-python",
   "name": "python",
   "nbconvert_exporter": "python",
   "pygments_lexer": "ipython3",
   "version": "3.9.17"
  },
  "orig_nbformat": 4
 },
 "nbformat": 4,
 "nbformat_minor": 2
}
